{
 "cells": [
  {
   "cell_type": "markdown",
   "id": "788f1f36",
   "metadata": {},
   "source": [
    "This script runs inference on a tile, using the specified model. If requested, it will also save the predictions to file."
   ]
  },
  {
   "cell_type": "code",
   "execution_count": null,
   "id": "717dba17",
   "metadata": {},
   "outputs": [],
   "source": [
    "import torch\n",
    "import rasterio\n",
    "import sys\n",
    "sys.path.append(\"..\")\n",
    "import utils.data as dt\n",
    "import utils.model_utils as mu"
   ]
  },
  {
   "cell_type": "markdown",
   "id": "c0146177",
   "metadata": {},
   "source": [
    "The block below includes all the parameters for inference. We can pass in different parameters using `papermill`."
   ]
  },
  {
   "cell_type": "code",
   "execution_count": null,
   "id": "48e22e42",
   "metadata": {
    "tags": [
     "parameters"
    ]
   },
   "outputs": [],
   "source": [
    "# some parameters about the datasets on which to perform inference\n",
    "paths = [\n",
    "    \"/datadrive/snake/lakes/le7-2015/splits/train/GL083789E28642N-20150801.tif\", \n",
    "    \"/datadrive/snake/lakes/le7-2015/splits/train/GL087427E28754N-20151101.tif\"\n",
    "]\n",
    "stats = \"/datadrive/snake/lakes/le7-2015/splits/train/processed/statistics.csv\"\n",
    "dataset_opts = {}\n",
    "\n",
    "# path to the model to load, and default options\n",
    "model_fn = \"/datadrive/snake/glaciers/test_models/snake_200.pt\"\n",
    "model_opts = {\"model\": \"DELSE\", \"pth_model\": \"/datadrive/snake/lakes/models/MS_DeepLab_resnet_trained_VOC.pth\"}\n",
    "\n",
    "# Where to save predictions? If None, doesn't save anything\n",
    "out_dir = \"/datadrive/snake/lakes/le7-2015/preds/\""
   ]
  },
  {
   "cell_type": "markdown",
   "id": "65928f7a",
   "metadata": {},
   "source": [
    "The block below loads the model that we've previously trained. Any options that were used to customize the model architecture need to be passed in through the `model_opts` parameter."
   ]
  },
  {
   "cell_type": "code",
   "execution_count": null,
   "id": "f1364210",
   "metadata": {},
   "outputs": [],
   "source": [
    "import torch\n",
    "from models.unet import UnetModel\n",
    "from models.networks import backend_cnnn\n",
    "device = torch.device(cuda if torch.cuda.is_available() else cpu)\n",
    "\n",
    "# specify the model, and load the state dict\n",
    "if model_opts[\"model\"] == \"U-Net\":\n",
    "    model = UnetModel(**model_opts)\n",
    "elif model_opts[\"model\"] == \"DELSE\":\n",
    "    model = backend_cnn(**model_opts)\n",
    "\n",
    "model.load_state_dict(model_fn)\n",
    "model.eval()\n",
    "model.to(device)"
   ]
  },
  {
   "cell_type": "markdown",
   "id": "d31dd485",
   "metadata": {},
   "source": [
    "Next, we construct a dataloader over all the paths that we want to perform inference on. I'm assuming here that the dataset class knows how to handle any imputation and renormalization. I'm also assuming that it will not crop the input image. If the dataset class doesn't have that much flexibility, then we can just create a small `inference` dataset class that will just do the imputation and renormalization."
   ]
  },
  {
   "cell_type": "code",
   "execution_count": null,
   "id": "08c44c2f",
   "metadata": {},
   "outputs": [],
   "source": [
    "from torch.utils.dataset import DataLoader\n",
    "\n",
    "# create a dataloader, and perform inference\n",
    "dataset = DataSet(paths, **dataset_opts)\n",
    "loader = DataLoader(dataset)\n",
    "mu.save_inferences(model, loader, out_dir)"
   ]
  },
  {
   "cell_type": "markdown",
   "id": "49270ff2",
   "metadata": {},
   "source": [
    "Finally, it can be nice to look at a few images directly in the notebook, just so we don't have to copy all the tif's and load QGIS to see a couple predictions."
   ]
  },
  {
   "cell_type": "code",
   "execution_count": null,
   "id": "8d58f378",
   "metadata": {},
   "outputs": [],
   "source": [
    "import matplotlib.pyplot as plt\n",
    "\n",
    "for i in range(y_hat.shape[0]):\n",
    "    x_ = np.transpose(x[i], (1, 2, 0))\n",
    "    plt.imshow(10 * x_ / np.nanmax(x_))\n",
    "    plt.imshow(y_hat[i])"
   ]
  },
  {
   "cell_type": "code",
   "execution_count": null,
   "id": "1f0e65ad",
   "metadata": {},
   "outputs": [],
   "source": []
  }
 ],
 "metadata": {
  "kernelspec": {
   "display_name": "mappingvis",
   "language": "python",
   "name": "mappingvis"
  },
  "language_info": {
   "codemirror_mode": {
    "name": "ipython",
    "version": 3
   },
   "file_extension": ".py",
   "mimetype": "text/x-python",
   "name": "python",
   "nbconvert_exporter": "python",
   "pygments_lexer": "ipython3",
   "version": "3.7.0"
  }
 },
 "nbformat": 4,
 "nbformat_minor": 5
}

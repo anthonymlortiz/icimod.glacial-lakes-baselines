{
 "cells": [
  {
   "cell_type": "code",
   "execution_count": null,
   "id": "6ff5880e-864e-4479-aaae-46602bac79c1",
   "metadata": {},
   "outputs": [],
   "source": [
    "import rasterio\n",
    "import geopandas as gpd\n",
    "import data as dt\n",
    "import csv\n",
    "import numpy as np\n",
    "from pathlib import Path"
   ]
  },
  {
   "cell_type": "markdown",
   "id": "1c83f421-7448-4b5a-8090-75552935abba",
   "metadata": {},
   "source": [
    "The three parameters of this script are,\n",
    "\n",
    "* Which directory contains all the scenes that we want to extract preprocessing-relevant summaries and masks for?\n",
    "* Where do we want to save our results?\n",
    "* What is the full path to the labels from which we will construct our masks?\n",
    "\n",
    "For the first question, we will use the following choices (on the Azure machine),\n",
    "\n",
    "* Bing Recent: `/datadrive/glaciers/bing_glaciers/bing_glacial_lakes`\n",
    "* Landsat 2015: `/datadrive/snake/lakes/le7-2015`\n",
    "* Landsat all: `/datadrive/snake/lakes/imagery`\n",
    "\n",
    "Technically we only need Landsat all, but Landsat 2015 is convenient because that's the only data that we can train on (the rest would be for purely inference purposes)."
   ]
  },
  {
   "cell_type": "code",
   "execution_count": null,
   "id": "c2ee9c2d-216c-42a7-9808-f7c352ba06ca",
   "metadata": {},
   "outputs": [],
   "source": [
    "in_dir = Path(\"data/raw\")\n",
    "out_dir = Path(\"data/processed\")\n",
    "label_path = in_dir / \"GL_3basins_2015.shp\""
   ]
  },
  {
   "cell_type": "markdown",
   "id": "5a333627-980a-4aee-974c-45eaf7c876a3",
   "metadata": {},
   "source": [
    "Next, we read in the label data and set up the writer to which we will save summary statistics."
   ]
  },
  {
   "cell_type": "code",
   "execution_count": null,
   "id": "749abb2c-3847-460b-abdd-adc31ccef3eb",
   "metadata": {},
   "outputs": [],
   "source": [
    "scene_list = in_dir.glob(\"*.tif\")\n",
    "y = gpd.read_file(label_path)\n",
    "fields = [\"scene\"] + sum([[f\"{s}_{i}\" for i in range(3)] for s in [\"mean\", \"sdev\"]], [])\n",
    "stat_path = out_dir / \"statistics.csv\"\n",
    "f = open(stat_path, \"a\")\n",
    "writer = csv.writer(f)\n",
    "writer.writerow(fields)"
   ]
  },
  {
   "cell_type": "markdown",
   "id": "8abf9bc8-a0c5-4381-b5c9-9d30dfe0c98e",
   "metadata": {},
   "source": [
    "Finally, we can loop over all the scenes in `in_dir` and save the relevant statistics and masks."
   ]
  },
  {
   "cell_type": "code",
   "execution_count": 3,
   "id": "f83a493b-ad2e-4f91-90b2-4adc65586f72",
   "metadata": {},
   "outputs": [],
   "source": [
    "for scene in scene_list:\n",
    "    img = rasterio.open(scene)\n",
    "    result = dt.preprocessor(img, y)\n",
    "    np.save(out_dir / f\"{scene.stem}-labels.npy\", result[2])\n",
    "    writer.writerow([str(scene)] + list(np.hstack(result[:2])))"
   ]
  },
  {
   "cell_type": "code",
   "execution_count": null,
   "id": "eeec28ef-ce5c-45e4-8eee-f087ad4cd908",
   "metadata": {},
   "outputs": [],
   "source": [
    "import matplotlib.pyplot as plt\n",
    "for s in result[2]:\n",
    "    plt.imshow(s)\n",
    "    plt.show()"
   ]
  }
 ],
 "metadata": {
  "kernelspec": {
   "display_name": "lakes",
   "language": "python",
   "name": "lakes"
  },
  "language_info": {
   "codemirror_mode": {
    "name": "ipython",
    "version": 3
   },
   "file_extension": ".py",
   "mimetype": "text/x-python",
   "name": "python",
   "nbconvert_exporter": "python",
   "pygments_lexer": "ipython3",
   "version": "3.9.4"
  }
 },
 "nbformat": 4,
 "nbformat_minor": 5
}

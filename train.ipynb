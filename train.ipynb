{
 "cells": [
  {
   "cell_type": "code",
   "execution_count": null,
   "id": "5fb398d5-b1e3-419b-98ef-b8e3e6d7e912",
   "metadata": {},
   "outputs": [],
   "source": [
    "import numpy as np\n",
    "from pathlib import Path\n",
    "import torch\n",
    "import os\n",
    "os.environ['KMP_DUPLICATE_LIB_OK']='True'"
   ]
  },
  {
   "cell_type": "code",
   "execution_count": null,
   "id": "9860b6c0-fcd7-4605-8e3f-80d2f0bd87b5",
   "metadata": {},
   "outputs": [],
   "source": [
    "data_dir = Path(\"data/processed\")\n",
    "x = np.load(data_dir / \"x.npy\")\n",
    "y = np.load(data_dir / \"y.npy\")\n",
    "y = y[y.sum((1, 2)) != 0]\n",
    "dts = np.load(data_dir / \"dts.npy\")\n",
    "sdts = np.load(data_dir / \"sdts.npy\")"
   ]
  },
  {
   "cell_type": "code",
   "execution_count": null,
   "id": "6ef2cbd2-94e1-4393-9bae-692c7606a2a3",
   "metadata": {},
   "outputs": [],
   "source": [
    "import matplotlib.pyplot as plt\n",
    "import random\n",
    "import data as dt\n",
    "\n",
    "dataset = dt.ToyExperiment(x, y, dts, sdts)\n",
    "x0, y0, dts0, sdts0 = dataset[0:3]\n",
    "plt.imshow(np.transpose(x0[:3], (1, 2, 0)) / x0.max())\n",
    "plt.show()\n",
    "plt.imshow(y0[0])"
   ]
  },
  {
   "cell_type": "code",
   "execution_count": null,
   "id": "cc762488-6f17-40e2-b121-8541e6dc8427",
   "metadata": {},
   "outputs": [],
   "source": [
    "import torch.optim\n",
    "import networks\n",
    "from train import train\n",
    "from torch.utils.data import DataLoader\n",
    "\n",
    "device = torch.device(\"cuda\" if torch.cuda.is_available() else \"cpu\")\n",
    "net = networks.backend_cnn(\"data/models/MS_DeepLab_resnet_trained_VOC.pth\")\n",
    "lr, wd, momentum = 1e-4, 1e-6, 0.9\n",
    "loaders = {\"train\": DataLoader(dataset, batch_size=8), \"val\": DataLoader(dataset, batch_size=16)}\n",
    "train_params = [{'params': net.get_1x_lr_params(), 'lr': lr},\n",
    "                {'params': net.get_10x_lr_params(), 'lr': lr * 10}]\n",
    "optimizer = torch.optim.SGD(train_params, lr=lr, momentum=momentum, weight_decay=wd)\n",
    "net, optimizer = train(loaders, net, optimizer)"
   ]
  },
  {
   "cell_type": "code",
   "execution_count": null,
   "id": "45d561fc-5808-4f9f-9ce9-318b73f26d40",
   "metadata": {},
   "outputs": [],
   "source": []
  }
 ],
 "metadata": {
  "kernelspec": {
   "display_name": "lakes",
   "language": "python",
   "name": "lakes"
  },
  "language_info": {
   "codemirror_mode": {
    "name": "ipython",
    "version": 3
   },
   "file_extension": ".py",
   "mimetype": "text/x-python",
   "name": "python",
   "nbconvert_exporter": "python",
   "pygments_lexer": "ipython3",
   "version": "3.9.4"
  }
 },
 "nbformat": 4,
 "nbformat_minor": 5
}

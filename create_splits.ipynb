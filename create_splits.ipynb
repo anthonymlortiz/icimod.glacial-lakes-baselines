{
 "cells": [
  {
   "cell_type": "markdown",
   "id": "5dcbe803-f7a1-483a-89c5-226d18676a31",
   "metadata": {},
   "source": [
    "This script produces JSON objects storing the splits between train / test / val for the three datasets that we have, based on geographic location. The approach is to (1) create a mapping based on basin ID in the label geojson and then (2) match the paths of files in the raw data directory with those in the IDs in the geojson. This is only possible because we named the scenes specifically for the lakes around which the download was centered.\n",
    "\n",
    "The main parameters are,\n",
    "* What directory contains all the Lake ID-named scenes?\n",
    "* What is the path to the geojson that contains the lake IDs and their basins?\n",
    "* Which basin numbers should be assigned to which splits?\n",
    "* Where should we save the result?"
   ]
  },
  {
   "cell_type": "code",
   "execution_count": null,
   "id": "3a7cc5a8-ec3c-4420-aef8-fb6e34a338e8",
   "metadata": {},
   "outputs": [],
   "source": [
    "from pathlib import Path\n",
    "import json\n",
    "import geopandas as gpd"
   ]
  },
  {
   "cell_type": "code",
   "execution_count": null,
   "id": "8b267f2b-4e29-4469-9076-22b1a6f73cab",
   "metadata": {},
   "outputs": [],
   "source": [
    "in_dir = Path(\"/datadrive/snake/lakes/imagery\")\n",
    "label_path = Path(\"/datadrive/snake/lakes/GL_3basins_2015.shp\")\n",
    "out_path = Path(\"/datadrive/snake/lakes/split.json\")\n",
    "\n",
    "basin_mapping = {\n",
    "    \"train\": [1, 2, 3],\n",
    "    \"val\": [4],\n",
    "    \"test\": [5]\n",
    "}"
   ]
  },
  {
   "cell_type": "code",
   "execution_count": null,
   "id": "42cd9496-fb7f-4005-9cca-31a1f278c7da",
   "metadata": {},
   "outputs": [],
   "source": [
    "y = gpd.read_file(label_path)"
   ]
  },
  {
   "cell_type": "code",
   "execution_count": null,
   "id": "aa6e03cb-dcbc-4190-bfb8-31517247be53",
   "metadata": {},
   "outputs": [],
   "source": []
  }
 ],
 "metadata": {
  "kernelspec": {
   "display_name": "lakes",
   "language": "python",
   "name": "lakes"
  },
  "language_info": {
   "codemirror_mode": {
    "name": "ipython",
    "version": 3
   },
   "file_extension": ".py",
   "mimetype": "text/x-python",
   "name": "python",
   "nbconvert_exporter": "python",
   "pygments_lexer": "ipython3",
   "version": "3.9.4"
  }
 },
 "nbformat": 4,
 "nbformat_minor": 5
}

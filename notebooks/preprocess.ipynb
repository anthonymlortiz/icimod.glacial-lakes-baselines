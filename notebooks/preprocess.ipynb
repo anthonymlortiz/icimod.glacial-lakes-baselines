{
 "cells": [
  {
   "cell_type": "code",
   "execution_count": null,
   "id": "8598de14",
   "metadata": {},
   "outputs": [],
   "source": [
    "import sys\n",
    "sys.path.append(\"..\")\n",
    "import csv\n",
    "import shutil\n",
    "import rasterio\n",
    "import geopandas as gpd\n",
    "import numpy as np\n",
    "import utils.data as dt\n",
    "from pathlib import Path"
   ]
  },
  {
   "cell_type": "markdown",
   "id": "cb5f02ec",
   "metadata": {},
   "source": [
    "The three parameters of this script are,\n",
    "\n",
    "* Which directory contains all the scenes that we want to extract preprocessing-relevant summaries and masks for?\n",
    "* Where do we want to save our results?\n",
    "* What is the full path to the labels from which we will construct our masks?\n",
    "\n",
    "For the first question, we will use the following choices (on the Azure machine),\n",
    "\n",
    "* Bing Recent: `/datadrive/glaciers/bing_glaciers/bing_glacial_lakes`\n",
    "* Landsat 2015: `/datadrive/snake/lakes/le7-2015/{split}`\n",
    "* Landsat all: `/datadrive/snake/lakes/imagery`\n",
    "\n",
    "Technically we only need Landsat all, but Landsat 2015 is convenient because that's the only data that we can train on (the rest would be for purely inference purposes).\n",
    "\n",
    "Landsat:\n",
    "```\n",
    "papermill -p in_dir /datadrive/snake/lakes/le7-2015/splits/train -p out_dir /datadrive/snake/lakes/le7-2015/splits/train/processed preprocess.ipynb -\n",
    "papermill -p in_dir /datadrive/snake/lakes/le7-2015/splits/val -p out_dir /datadrive/snake/lakes/le7-2015/splits/val/processed preprocess.ipynb -\n",
    "papermill -p in_dir /datadrive/snake/lakes/le7-2015/splits/test -p out_dir /datadrive/snake/lakes/le7-2015/splits/test/processed preprocess.ipynb -\n",
    "```\n",
    "\n",
    "Bing:\n",
    "```\n",
    "papermill -p in_dir /datadrive/glaciers/bing_glaciers/bing_glacial_lakes/splits/train -p out_dir /datadrive/glaciers/bing_glaciers/bing_glacial_lakes/splits/train/processed preprocess.ipynb -\n",
    "```"
   ]
  },
  {
   "cell_type": "code",
   "execution_count": null,
   "id": "4f3fa201-d778-4876-9662-6f443ecfd178",
   "metadata": {
    "tags": [
     "parameters"
    ]
   },
   "outputs": [],
   "source": [
    "in_dir = \"/datadrive/snake/lakes/le7-2015/splits/train\"\n",
    "out_dir = \"/datadrive/snake/lakes/le7-2015/splits/train/processed\"\n",
    "label_path = \"/datadrive/snake/lakes/GL_3basins_2015.shp\""
   ]
  },
  {
   "cell_type": "code",
   "execution_count": null,
   "id": "8a6b4772",
   "metadata": {},
   "outputs": [],
   "source": [
    "paths = {\"in\": Path(in_dir), \"label\": Path(label_path), \"out\": Path(out_dir)}\n",
    "if paths[\"out\"].exists():\n",
    "    shutil.rmtree(paths[\"out\"])\n",
    "paths[\"out\"].mkdir(parents=True)"
   ]
  },
  {
   "cell_type": "markdown",
   "id": "b3655745",
   "metadata": {},
   "source": [
    "Next, we read in the label data and set up the writer to which we will save summary statistics."
   ]
  },
  {
   "cell_type": "code",
   "execution_count": null,
   "id": "b5736c8a",
   "metadata": {},
   "outputs": [],
   "source": [
    "scene_list = paths[\"in\"].glob(\"*.tif\")\n",
    "print(scene_list)\n",
    "y = gpd.read_file(paths[\"label\"])\n",
    "fields = [\"scene\"] + sum([[f\"{s}_{i}\" for i in range(11)] for s in [\"mean\", \"sdev\"]], [])\n",
    "stat_path = paths[\"out\"] / \"statistics.csv\"\n",
    "f = open(stat_path, \"a\")\n",
    "writer = csv.writer(f)\n",
    "writer.writerow(fields)"
   ]
  },
  {
   "cell_type": "markdown",
   "id": "db486dd1",
   "metadata": {},
   "source": [
    "Finally, we can loop over all the scenes in `in_dir` and save the relevant statistics and masks."
   ]
  },
  {
   "cell_type": "code",
   "execution_count": null,
   "id": "95b5bb20",
   "metadata": {},
   "outputs": [],
   "source": [
    "for scene in scene_list:\n",
    "    img = rasterio.open(scene)\n",
    "    result = dt.preprocessor(img, y)\n",
    "    out_path = paths[\"out\"] / f\"{scene.stem}-labels.tif\"\n",
    "    dt.save_raster(result[2], img.meta, img.transform, out_path)\n",
    "    writer.writerow([str(scene)] + list(np.hstack(result[:2])))\n",
    "    \n",
    "f.close()"
   ]
  },
  {
   "cell_type": "code",
   "execution_count": null,
   "id": "71c6c507",
   "metadata": {},
   "outputs": [],
   "source": [
    "import matplotlib.pyplot as plt\n",
    "\n",
    "for s in result[2]:\n",
    "    plt.imshow(s)\n",
    "    plt.show()"
   ]
  },
  {
   "cell_type": "code",
   "execution_count": null,
   "id": "ced638c1-9f24-45a2-9fe1-9b91713eda58",
   "metadata": {},
   "outputs": [],
   "source": []
  }
 ],
 "metadata": {
  "kernelspec": {
   "display_name": "mappingvis",
   "language": "python",
   "name": "mappingvis"
  },
  "language_info": {
   "codemirror_mode": {
    "name": "ipython",
    "version": 3
   },
   "file_extension": ".py",
   "mimetype": "text/x-python",
   "name": "python",
   "nbconvert_exporter": "python",
   "pygments_lexer": "ipython3",
   "version": "3.7.0"
  }
 },
 "nbformat": 4,
 "nbformat_minor": 5
}

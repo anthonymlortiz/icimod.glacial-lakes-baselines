{
 "cells": [
  {
   "cell_type": "code",
   "execution_count": null,
   "id": "f2149764-5b66-48b1-97b7-c7b8a63fa320",
   "metadata": {},
   "outputs": [],
   "source": [
    "from pathlib import Path\n",
    "import rasterio\n",
    "import geopandas as gpd\n",
    "import data as dt\n",
    "import csv\n",
    "import numpy as np\n",
    "\n",
    "scene_list = [Path(s) for s in [\"GL085796E28265N.tif\", \"GL085802E28275N.tif\", \"GL085806E28270N.tif\"]]\n",
    "in_dir = Path(\"data/raw\")\n",
    "out_dir = Path(\"data/processed\")\n",
    "y = gpd.read_file(in_dir / \"GL_3basins_2015.shp\")\n",
    "\n",
    "fields = [\"scene\"] + sum([[f\"{s}_{i}\" for i in range(3)] for s in [\"mean\", \"sdev\"]], [])\n",
    "stat_path = out_dir / \"statistics.csv\"\n",
    "f = open(stat_path, \"a\")\n",
    "writer = csv.writer(f)\n",
    "writer.writerow(fields)\n",
    "\n",
    "for scene in scene_list:\n",
    "    img = rasterio.open(in_dir / scene)\n",
    "    result = dt.preprocessor(img, y)\n",
    "    np.save(out_dir / f\"{scene.stem}-labels.npy\", result[2])\n",
    "    writer.writerow([str(scene)] + list(np.hstack(result[:2])))"
   ]
  },
  {
   "cell_type": "code",
   "execution_count": null,
   "id": "eeec28ef-ce5c-45e4-8eee-f087ad4cd908",
   "metadata": {},
   "outputs": [],
   "source": [
    "import matplotlib.pyplot as plt\n",
    "for s in result[2]:\n",
    "    plt.imshow(s)\n",
    "    plt.show()"
   ]
  },
  {
   "cell_type": "code",
   "execution_count": null,
   "id": "6caf4c1a-f982-478a-82a0-29602c7cc6f0",
   "metadata": {},
   "outputs": [],
   "source": []
  }
 ],
 "metadata": {
  "kernelspec": {
   "display_name": "lakes",
   "language": "python",
   "name": "lakes"
  },
  "language_info": {
   "codemirror_mode": {
    "name": "ipython",
    "version": 3
   },
   "file_extension": ".py",
   "mimetype": "text/x-python",
   "name": "python",
   "nbconvert_exporter": "python",
   "pygments_lexer": "ipython3",
   "version": "3.9.4"
  }
 },
 "nbformat": 4,
 "nbformat_minor": 5
}

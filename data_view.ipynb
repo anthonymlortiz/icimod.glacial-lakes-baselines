{
 "cells": [
  {
   "cell_type": "code",
   "execution_count": null,
   "id": "6d37ac1e-c760-481f-b03d-58e914eb6ea3",
   "metadata": {},
   "outputs": [],
   "source": [
    "from pathlib import Path\n",
    "import rasterio\n",
    "import geopandas as gpd\n",
    "import data as dt\n",
    "\n",
    "data_dir = Path(\"data/raw\")\n",
    "img = rasterio.open(Path(data_dir) / \"GL085796E28265N.tif\")\n",
    "y = gpd.read_file(data_dir / \"GL_3basins_2015.shp\")\n",
    "result = dt.preprocessor(img, y)"
   ]
  },
  {
   "cell_type": "code",
   "execution_count": null,
   "id": "4c2739da-1caf-4e53-91d2-5c5b74479f86",
   "metadata": {},
   "outputs": [],
   "source": [
    "import matplotlib.pyplot as plt\n",
    "for s in result[2]:\n",
    "    plt.imshow(s)\n",
    "    plt.show()"
   ]
  },
  {
   "cell_type": "code",
   "execution_count": null,
   "id": "d5f70ad3-b6b2-4aea-b87b-6c4575b74211",
   "metadata": {},
   "outputs": [],
   "source": [
    "np.save(data_dir / \"y.npy\", result[2][0])\n",
    "np.save(data_dir / \"exhm.npy\", result[2][1])\n",
    "np.save(data_dir / \"dts.npy\", result[2][2])\n",
    "np.save(data_dir / \"sdts.npy\", result[2][3])\n",
    "np.save(data_dir / \"x.npy\", img.read())"
   ]
  }
 ],
 "metadata": {
  "kernelspec": {
   "display_name": "lakes",
   "language": "python",
   "name": "lakes"
  },
  "language_info": {
   "codemirror_mode": {
    "name": "ipython",
    "version": 3
   },
   "file_extension": ".py",
   "mimetype": "text/x-python",
   "name": "python",
   "nbconvert_exporter": "python",
   "pygments_lexer": "ipython3",
   "version": "3.9.4"
  }
 },
 "nbformat": 4,
 "nbformat_minor": 5
}

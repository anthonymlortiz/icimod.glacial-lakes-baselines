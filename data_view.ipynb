{
 "cells": [
  {
   "cell_type": "code",
   "execution_count": null,
   "id": "7741e790-9efe-4d94-8207-6a5d679188ff",
   "metadata": {},
   "outputs": [],
   "source": [
    "import rasterio\n",
    "import rasterio.mask\n",
    "import numpy as np\n",
    "import shapely\n",
    "import geopandas as gpd\n",
    "import random\n",
    "import shapely.geometry as sg\n",
    "from pathlib import Path\n",
    "from scipy import misc, ndimage\n",
    "import cv2\n",
    "\n",
    "import matplotlib.pyplot as plt"
   ]
  },
  {
   "cell_type": "code",
   "execution_count": null,
   "id": "1bed6d71-4683-4a5e-869d-71345235f552",
   "metadata": {},
   "outputs": [],
   "source": [
    "data_dir = Path(\"data/raw\")\n",
    "img = rasterio.open(Path(data_dir) / \"GL085796E28265N.tif\")\n",
    "x = img.read()\n",
    "y = gpd.read_file(data_dir / \"GL_3basins_2015.shp\")\n",
    "extent = gpd.GeoDataFrame(index=[0], crs=y.crs, geometry=[sg.box(*img.bounds)])\n",
    "y_extent = gpd.overlay(y, extent)"
   ]
  },
  {
   "cell_type": "code",
   "execution_count": null,
   "id": "e3c29c07-1798-4626-aa86-7f2300a02937",
   "metadata": {},
   "outputs": [],
   "source": [
    "import data as dt\n",
    "\n",
    "masks, p = [], []\n",
    "for geom in y_extent[\"geometry\"]:\n",
    "    mask_i = rasterio.mask.mask(img, [geom])\n",
    "    masks.append(1 * np.any(mask_i[0] != 0, axis=0))\n",
    "    p.append(dt.extreme_points(masks[-1]))"
   ]
  },
  {
   "cell_type": "code",
   "execution_count": null,
   "id": "a9b5a304-f3ee-417b-a1bd-f2debf1d3d4a",
   "metadata": {},
   "outputs": [],
   "source": [
    "plt.imshow(np.transpose(x, (1, 2, 0)))\n",
    "for pi in p:\n",
    "    plt.scatter(pi[:, 0], pi[:, 1], s=3, c=\"red\")\n",
    "plt.show()"
   ]
  },
  {
   "cell_type": "code",
   "execution_count": null,
   "id": "4ba38f00-a6c2-48b9-85d4-3ac536b2c7bb",
   "metadata": {},
   "outputs": [],
   "source": [
    "p_blur = dt.make_gt(x.shape[1:], np.vstack(p))\n",
    "plt.imshow(np.sum(p_blur, 0))"
   ]
  },
  {
   "cell_type": "code",
   "execution_count": null,
   "id": "81430ec4-6c2e-49c9-915d-cae81308f610",
   "metadata": {},
   "outputs": [],
   "source": [
    "dts, sdts = dt.sdt(np.stack(masks))\n",
    "plt.imshow(np.sum(masks, axis=0))\n",
    "plt.show()\n",
    "plt.imshow(np.sum(sdts, axis=0))"
   ]
  },
  {
   "cell_type": "code",
   "execution_count": null,
   "id": "f9fe9c73-0a26-429d-bcf8-f069e9e901f4",
   "metadata": {},
   "outputs": [],
   "source": [
    "np.save(data_dir / \"sdts.npy\", sdts)\n",
    "np.save(data_dir / \"x.npy\", x)\n",
    "np.save(data_dir / \"y.npy\", np.stack(masks))"
   ]
  },
  {
   "cell_type": "code",
   "execution_count": null,
   "id": "a7c19ffe-1e1f-47e2-97ee-a821135182f7",
   "metadata": {},
   "outputs": [],
   "source": []
  }
 ],
 "metadata": {
  "kernelspec": {
   "display_name": "lakes",
   "language": "python",
   "name": "lakes"
  },
  "language_info": {
   "codemirror_mode": {
    "name": "ipython",
    "version": 3
   },
   "file_extension": ".py",
   "mimetype": "text/x-python",
   "name": "python",
   "nbconvert_exporter": "python",
   "pygments_lexer": "ipython3",
   "version": "3.9.4"
  }
 },
 "nbformat": 4,
 "nbformat_minor": 5
}

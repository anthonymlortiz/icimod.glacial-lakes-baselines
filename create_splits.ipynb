{
 "cells": [
  {
   "cell_type": "markdown",
   "id": "d5580f41",
   "metadata": {},
   "source": [
    "This script produces JSON objects storing the splits between train / test / val for the three datasets that we have, based on geographic location. The approach is to (1) create a mapping based on basin ID in the label geojson and then (2) match the paths of files in the raw data directory with those in the IDs in the geojson. This is only possible because we named the scenes specifically for the lakes around which the download was centered.\n",
    "\n",
    "The main parameters are,\n",
    "* What directory contains all the Lake ID-named scenes?\n",
    "* What is the path to the geojson that contains the lake IDs and their basins?\n",
    "* Which basin numbers should be assigned to which splits?\n",
    "* Where should we save the result?"
   ]
  },
  {
   "cell_type": "code",
   "execution_count": null,
   "id": "552e20b0",
   "metadata": {},
   "outputs": [],
   "source": [
    "from pathlib import Path\n",
    "import json\n",
    "import geopandas as gpd"
   ]
  },
  {
   "cell_type": "code",
   "execution_count": null,
   "id": "e1d32d58",
   "metadata": {},
   "outputs": [],
   "source": [
    "in_dir = Path(\"/datadrive/snake/lakes/imagery\")\n",
    "label_path = Path(\"/datadrive/snake/lakes/GL_3basins_2015.shp\")\n",
    "out_path = Path(\"/datadrive/snake/lakes/split.json\")\n",
    "\n",
    "basin_mapping = {\n",
    "    \"train\": [\"Koshi\"],\n",
    "    \"val\": [\"Gandaki\"],\n",
    "    \"test\": [\"Karnali\"]\n",
    "}"
   ]
  },
  {
   "cell_type": "code",
   "execution_count": null,
   "id": "f999f530",
   "metadata": {},
   "outputs": [],
   "source": [
    "y = gpd.read_file(label_path)"
   ]
  },
  {
   "cell_type": "code",
   "execution_count": null,
   "id": "ff18877e",
   "metadata": {},
   "outputs": [],
   "source": [
    "y"
   ]
  },
  {
   "cell_type": "code",
   "execution_count": null,
   "id": "3506e512",
   "metadata": {},
   "outputs": [],
   "source": []
  }
 ],
 "metadata": {
  "kernelspec": {
   "display_name": "geo",
   "language": "python",
   "name": "geo"
  },
  "language_info": {
   "codemirror_mode": {
    "name": "ipython",
    "version": 3
   },
   "file_extension": ".py",
   "mimetype": "text/x-python",
   "name": "python",
   "nbconvert_exporter": "python",
   "pygments_lexer": "ipython3",
   "version": "3.7.10"
  }
 },
 "nbformat": 4,
 "nbformat_minor": 5
}
